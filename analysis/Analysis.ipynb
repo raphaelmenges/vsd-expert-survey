{
 "cells": [
  {
   "cell_type": "code",
   "execution_count": 1,
   "metadata": {},
   "outputs": [],
   "source": [
    "import json\n",
    "import numpy as np\n",
    "from collections import OrderedDict\n",
    "from collections import defaultdict\n",
    "from collections import Counter\n",
    "from os import listdir\n",
    "from os.path import isfile, join\n",
    "import matplotlib.pyplot as plt\n",
    "from matplotlib import rcParams\n",
    "rcParams['font.family'] = 'serif'\n",
    "rcParams['font.sans-serif'] = ['Times New Roman']\n",
    "rcParams['font.serif'] = ['Times New Roman']\n",
    "rcParams[\"font.size\"] = \"8\"\n",
    "rcParams['text.usetex'] ='false'\n",
    "rcParams[\"font.weight\"] = \"normal\"\n",
    "rcParams[\"axes.labelweight\"] = \"normal\"\n",
    "rcParams['figure.dpi'] = 200\n",
    "\n",
    "# Helper functions (returns tuple of most common element and its count)\n",
    "def calc_mode(l):\n",
    "    a = Counter(l)\n",
    "    return a.most_common(1)[0]"
   ]
  },
  {
   "cell_type": "code",
   "execution_count": 2,
   "metadata": {},
   "outputs": [],
   "source": [
    "path = r'./Results'\n",
    "\n",
    "class colors:\n",
    "    RED = '\\033[91m'\n",
    "    GREEN = '\\033[92m'\n",
    "    BLUE = '\\033[94m'\n",
    "    ORANGE = '\\033[93m'\n",
    "    ENDC = '\\033[0m'\n",
    "    BOLD = '\\033[1m'\n",
    "    UNDERLINE = '\\033[4m'"
   ]
  },
  {
   "cell_type": "code",
   "execution_count": 3,
   "metadata": {},
   "outputs": [],
   "source": [
    "records = [] # all survey submissions\n",
    "\n",
    "# Open json files\n",
    "files = [f for f in listdir(path) if isfile(join(path, f))]\n",
    "for file in files:\n",
    "    with open(join(path, file), 'r') as f:\n",
    "        records.append(json.load(f)['form'])"
   ]
  },
  {
   "cell_type": "code",
   "execution_count": 4,
   "metadata": {},
   "outputs": [],
   "source": [
    "d = OrderedDict() # better datastructure\n",
    "\n",
    "# Go over one record and define better datastructure\n",
    "for key,value in records[0].items():\n",
    "    page, item = key.split('.')\n",
    "    \n",
    "    # Add page\n",
    "    if page not in d:\n",
    "        d[page] = OrderedDict()\n",
    "        \n",
    "    # Add item\n",
    "    d[page][item] = []\n",
    "    \n",
    "# Fill better datastructure\n",
    "for record in records:\n",
    "    for key,value in record.items():\n",
    "        page, item = key.split('.')\n",
    "        if value != '': # too filter empty text answers (optional)\n",
    "            d[page][item].append(value)\n",
    "        \n",
    "# Sort pages in better datastructure\n",
    "keyorder = ['general',\n",
    "            'expertise',\n",
    "            'scrollingPage1',\n",
    "            'scrollingPage2',\n",
    "            'dynamicCarousel1',\n",
    "            'dynamicCarousel2',\n",
    "            'expandingMenu1',\n",
    "            'expandingMenu2',\n",
    "            'feedback',\n",
    "            'submission']\n",
    "d = OrderedDict(sorted(d.items(), key=lambda i:keyorder.index(i[0])))"
   ]
  },
  {
   "cell_type": "code",
   "execution_count": 5,
   "metadata": {},
   "outputs": [],
   "source": [
    "# Perform filtering\n",
    "del d['submission']"
   ]
  },
  {
   "cell_type": "code",
   "execution_count": 6,
   "metadata": {},
   "outputs": [
    {
     "name": "stdout",
     "output_type": "stream",
     "text": [
      "\u001b[93mgeneral\u001b[0m\n",
      "  \u001b[94mage\u001b[0m                                 \u001b[92m['45', '41', '26', '47', '34', '29', '25', '40']\u001b[0m\n",
      "  \u001b[94mgender\u001b[0m                              \u001b[92mmale: 3; female: 5; \u001b[0m\n",
      "  \u001b[94mjob\u001b[0m                                 \u001b[92m['Product Owner', 'Usability Expert', 'Sales Associate', 'Consultant', 'Head of eye-tracking laboratory', 'phd', 'Research Assistant', 'Researcher']\u001b[0m\n",
      "  \u001b[94mnumber_studies\u001b[0m                      \u001b[92m4-10 studies: 3; 11+ studies: 4; 1-3 studies: 1; \u001b[0m\n",
      "  \u001b[94myears_profession\u001b[0m                    \u001b[92m['5', '5', '1', '23', '8', '1', '2', '7']\u001b[0m\n",
      "\u001b[93mexpertise\u001b[0m\n",
      "  \u001b[94manalysis_aoi_gaze\u001b[0m                   \u001b[92myes: 8; \u001b[0m\n",
      "  \u001b[94manalysis_aoi_mouse\u001b[0m                  \u001b[92myes: 3; no: 5; \u001b[0m\n",
      "  \u001b[94manalysis_attentionmap\u001b[0m               \u001b[92myes: 1; no: 7; \u001b[0m\n",
      "  \u001b[94manalysis_heatmap_gaze\u001b[0m               \u001b[92myes: 6; no: 2; \u001b[0m\n",
      "  \u001b[94manalysis_heatmap_mouse\u001b[0m              \u001b[92myes: 1; no: 7; \u001b[0m\n",
      "  \u001b[94manalysis_markers\u001b[0m                    \u001b[92mno: 8; \u001b[0m\n",
      "  \u001b[94manalysis_mousetrace\u001b[0m                 \u001b[92myes: 3; no: 5; \u001b[0m\n",
      "  \u001b[94manalysis_other\u001b[0m                      \u001b[92m[]\u001b[0m\n",
      "  \u001b[94manalysis_scanpath\u001b[0m                   \u001b[92myes: 5; no: 3; \u001b[0m\n",
      "  \u001b[94manalysis_scrollmap\u001b[0m                  \u001b[92myes: 3; no: 5; \u001b[0m\n",
      "  \u001b[94mevaluates_ads\u001b[0m                       \u001b[92myes: 3; no: 5; \u001b[0m\n",
      "  \u001b[94mevaluates_desktop\u001b[0m                   \u001b[92myes: 4; no: 4; \u001b[0m\n",
      "  \u001b[94mevaluates_mobile\u001b[0m                    \u001b[92myes: 5; no: 3; \u001b[0m\n",
      "  \u001b[94mevaluates_other\u001b[0m                     \u001b[92m['Videos', 'vending machines', 'maps', 'specific slides (displayed in a web page, but not really a \"website\")', 'not really a product, but rather user behavior when being exposed to different tasks that have to be solved']\u001b[0m\n",
      "  \u001b[94mevaluates_web_pages\u001b[0m                 \u001b[92myes: 7; no: 1; \u001b[0m\n",
      "  \u001b[94mmodality_eye\u001b[0m                        \u001b[92myes: 8; \u001b[0m\n",
      "  \u001b[94mmodality_facial_expression\u001b[0m          \u001b[92myes: 2; no: 6; \u001b[0m\n",
      "  \u001b[94mmodality_keyboard\u001b[0m                   \u001b[92myes: 4; no: 4; \u001b[0m\n",
      "  \u001b[94mmodality_mouse_clicks\u001b[0m               \u001b[92myes: 7; no: 1; \u001b[0m\n",
      "  \u001b[94mmodality_mouse_movement\u001b[0m             \u001b[92myes: 3; no: 5; \u001b[0m\n",
      "  \u001b[94mmodality_other\u001b[0m                      \u001b[92m['GSR, NIRS, EEG', 'time needed ']\u001b[0m\n",
      "  \u001b[94mmodality_speech\u001b[0m                     \u001b[92myes: 3; no: 5; \u001b[0m\n",
      "  \u001b[94mmodality_touch\u001b[0m                      \u001b[92myes: 5; no: 3; \u001b[0m\n",
      "  \u001b[94mrepresentation_composed\u001b[0m             \u001b[92myes: 3; no: 5; \u001b[0m\n",
      "  \u001b[94mrepresentation_live_dom\u001b[0m             \u001b[92myes: 1; no: 7; \u001b[0m\n",
      "  \u001b[94mrepresentation_other\u001b[0m                \u001b[92m['Eye Tracking', 'Eye Tracking video recording']\u001b[0m\n",
      "  \u001b[94mrepresentation_recorded_dom\u001b[0m         \u001b[92mno: 8; \u001b[0m\n",
      "  \u001b[94mrepresentation_screen_recording\u001b[0m     \u001b[92myes: 8; \u001b[0m\n",
      "  \u001b[94mrepresentation_screenshots\u001b[0m          \u001b[92myes: 2; no: 6; \u001b[0m\n",
      "  \u001b[94mrepresentation_think_aloud\u001b[0m          \u001b[92myes: 3; no: 5; \u001b[0m\n",
      "  \u001b[94mrepresentation_think_aloud_remote\u001b[0m   \u001b[92myes: 2; no: 6; \u001b[0m\n",
      "  \u001b[94mrepresentation_video_camera\u001b[0m         \u001b[92myes: 2; no: 6; \u001b[0m\n",
      "  \u001b[94mtool_blickshift\u001b[0m                     \u001b[92myes: 1; no: 7; \u001b[0m\n",
      "  \u001b[94mtool_cooltool\u001b[0m                       \u001b[92mno: 8; \u001b[0m\n",
      "  \u001b[94mtool_excel\u001b[0m                          \u001b[92myes: 4; no: 4; \u001b[0m\n",
      "  \u001b[94mtool_eyevido\u001b[0m                        \u001b[92myes: 6; no: 2; \u001b[0m\n",
      "  \u001b[94mtool_google_analytics\u001b[0m               \u001b[92myes: 2; no: 6; \u001b[0m\n",
      "  \u001b[94mtool_other\u001b[0m                          \u001b[92m['Biometric Software Suite']\u001b[0m\n",
      "  \u001b[94mtool_realeye\u001b[0m                        \u001b[92mno: 8; \u001b[0m\n",
      "  \u001b[94mtool_smi\u001b[0m                            \u001b[92myes: 2; no: 6; \u001b[0m\n",
      "  \u001b[94mtool_sticky\u001b[0m                         \u001b[92mno: 8; \u001b[0m\n",
      "  \u001b[94mtool_tobii\u001b[0m                          \u001b[92myes: 5; no: 3; \u001b[0m\n",
      "\u001b[93mscrollingPage1\u001b[0m\n",
      "  \u001b[94mrepresentation_composed\u001b[0m             \u001b[92myes: 3; no: 5; \u001b[0m\n",
      "  \u001b[94mrepresentation_live_dom\u001b[0m             \u001b[92myes: 1; no: 7; \u001b[0m\n",
      "  \u001b[94mrepresentation_other\u001b[0m                \u001b[92m['Eye Tracking ']\u001b[0m\n",
      "  \u001b[94mrepresentation_recorded_dom\u001b[0m         \u001b[92mno: 8; \u001b[0m\n",
      "  \u001b[94mrepresentation_screen_recording\u001b[0m     \u001b[92myes: 4; no: 4; \u001b[0m\n",
      "  \u001b[94mrepresentation_screenshots\u001b[0m          \u001b[92myes: 2; no: 6; \u001b[0m\n",
      "  \u001b[94mrepresentation_think_aloud\u001b[0m          \u001b[92myes: 3; no: 5; \u001b[0m\n",
      "  \u001b[94mrepresentation_think_aloud_remote\u001b[0m   \u001b[92myes: 1; no: 7; \u001b[0m\n",
      "  \u001b[94mrepresentation_video_camera\u001b[0m         \u001b[92myes: 1; no: 7; \u001b[0m\n",
      "\u001b[93mscrollingPage2\u001b[0m\n",
      "  \u001b[94melement_accuracy\u001b[0m                    \u001b[92mUndecided: 2; Strongly Agree: 2; Disagree: 1; Agree: 3; \u001b[0m\n",
      "  \u001b[94melement_recognized\u001b[0m                  \u001b[92mIn all of them: 3; In 1 to 10: 5; \u001b[0m\n",
      "  \u001b[94melement_time\u001b[0m                        \u001b[92mUndecided: 3; Strongly Agree: 1; Disagree: 2; Agree: 2; \u001b[0m\n",
      "\u001b[93mdynamicCarousel1\u001b[0m\n",
      "  \u001b[94mrepresentation_composed\u001b[0m             \u001b[92myes: 4; no: 4; \u001b[0m\n",
      "  \u001b[94mrepresentation_live_dom\u001b[0m             \u001b[92myes: 1; no: 7; \u001b[0m\n",
      "  \u001b[94mrepresentation_other\u001b[0m                \u001b[92m[]\u001b[0m\n",
      "  \u001b[94mrepresentation_recorded_dom\u001b[0m         \u001b[92mno: 8; \u001b[0m\n",
      "  \u001b[94mrepresentation_screen_recording\u001b[0m     \u001b[92myes: 4; no: 4; \u001b[0m\n",
      "  \u001b[94mrepresentation_screenshots\u001b[0m          \u001b[92myes: 2; no: 6; \u001b[0m\n",
      "  \u001b[94mrepresentation_think_aloud\u001b[0m          \u001b[92myes: 3; no: 5; \u001b[0m\n",
      "  \u001b[94mrepresentation_think_aloud_remote\u001b[0m   \u001b[92myes: 1; no: 7; \u001b[0m\n",
      "  \u001b[94mrepresentation_video_camera\u001b[0m         \u001b[92myes: 2; no: 6; \u001b[0m\n",
      "\u001b[93mdynamicCarousel2\u001b[0m\n",
      "  \u001b[94melement_accuracy\u001b[0m                    \u001b[92mUndecided: 1; Strongly Disagree: 1; Strongly Agree: 1; Disagree: 2; Agree: 3; \u001b[0m\n",
      "  \u001b[94melement_recognized\u001b[0m                  \u001b[92mIn all of them: 5; In 4: 1; In 1 to 2: 2; \u001b[0m\n",
      "  \u001b[94melement_time\u001b[0m                        \u001b[92mUndecided: 2; Strongly Agree: 1; Disagree: 2; Agree: 3; \u001b[0m\n",
      "\u001b[93mexpandingMenu1\u001b[0m\n",
      "  \u001b[94mrepresentation_composed\u001b[0m             \u001b[92myes: 4; no: 4; \u001b[0m\n",
      "  \u001b[94mrepresentation_live_dom\u001b[0m             \u001b[92myes: 1; no: 7; \u001b[0m\n",
      "  \u001b[94mrepresentation_other\u001b[0m                \u001b[92m[]\u001b[0m\n",
      "  \u001b[94mrepresentation_recorded_dom\u001b[0m         \u001b[92mno: 8; \u001b[0m\n",
      "  \u001b[94mrepresentation_screen_recording\u001b[0m     \u001b[92myes: 5; no: 3; \u001b[0m\n",
      "  \u001b[94mrepresentation_screenshots\u001b[0m          \u001b[92myes: 1; no: 7; \u001b[0m\n",
      "  \u001b[94mrepresentation_think_aloud\u001b[0m          \u001b[92myes: 3; no: 5; \u001b[0m\n",
      "  \u001b[94mrepresentation_think_aloud_remote\u001b[0m   \u001b[92myes: 1; no: 7; \u001b[0m\n",
      "  \u001b[94mrepresentation_video_camera\u001b[0m         \u001b[92myes: 2; no: 6; \u001b[0m\n",
      "\u001b[93mexpandingMenu2\u001b[0m\n",
      "  \u001b[94melement_accuracy\u001b[0m                    \u001b[92mUndecided: 1; Strongly Agree: 3; Agree: 4; \u001b[0m\n",
      "  \u001b[94melement_recognized\u001b[0m                  \u001b[92mIn all of them: 6; In 2: 1; In 1: 1; \u001b[0m\n",
      "  \u001b[94melement_time\u001b[0m                        \u001b[92mUndecided: 3; Strongly Agree: 1; Disagree: 2; Agree: 2; \u001b[0m\n",
      "\u001b[93mfeedback\u001b[0m\n",
      "  \u001b[94mfeedback\u001b[0m                            \u001b[92m['especially challenging when synchronising with additional measurements like GSR, NIRS, EEG etc.']\u001b[0m\n",
      "  \u001b[94mfull-automatic\u001b[0m                      \u001b[92mVery Probably: 5; Probably Not: 1; Possibly: 2; \u001b[0m\n",
      "  \u001b[94mnovelty\u001b[0m                             \u001b[92mVery: 3; Moderately: 4; Extremely: 1; \u001b[0m\n",
      "  \u001b[94msemi-automatic\u001b[0m                      \u001b[92mVery Probably: 3; Possibly: 3; Definitely Not: 1; Definitely: 1; \u001b[0m\n"
     ]
    }
   ],
   "source": [
    "# For some items apply counter instead of plain printing\n",
    "counters = ['gender',\n",
    "            'number', # number of studies, should have been number-studies\n",
    "            'analysis',\n",
    "            'evaluates',\n",
    "            'modality',\n",
    "            'representation',\n",
    "            'tool',\n",
    "            'element',\n",
    "            'full-automatic',\n",
    "            'novelty',\n",
    "            'semi-automatic']\n",
    "\n",
    "# Pretty print dictionary\n",
    "for page,items in d.items():\n",
    "    print(colors.ORANGE + page + colors.ENDC)\n",
    "    for name,value in items.items():\n",
    "        \n",
    "        # Decide how to print value\n",
    "        str_value = str(value)\n",
    "        print_counts = False\n",
    "        tokens = name.split('_')\n",
    "        if len(tokens) > 0 and tokens[0] in counters:\n",
    "            if len(tokens) > 1:\n",
    "                print_counts = not name.split('_')[1] == 'other'\n",
    "            else:\n",
    "                print_counts = True\n",
    "        if print_counts:\n",
    "            counts = OrderedDict(Counter(value))\n",
    "            counts = OrderedDict(sorted(counts.items(), reverse=True))\n",
    "            str_value = ''\n",
    "            for a, b in counts.items():\n",
    "                str_value += a + ': ' + str(b) + '; '\n",
    "            \n",
    "        # Print it to output\n",
    "        print('  %-45s%s' % (colors.BLUE + name + colors.ENDC, colors.GREEN + str_value + colors.ENDC))"
   ]
  },
  {
   "cell_type": "code",
   "execution_count": 7,
   "metadata": {},
   "outputs": [
    {
     "name": "stdout",
     "output_type": "stream",
     "text": [
      "Age mean: 35.875; Age std: 8.037995707886388\n"
     ]
    }
   ],
   "source": [
    "# Age average\n",
    "int_ages = [int(x) for x in d['general']['age']]\n",
    "print('Age mean: ' + str(np.mean(int_ages)) + '; Age std: ' + str(np.std(int_ages)))"
   ]
  },
  {
   "cell_type": "code",
   "execution_count": 8,
   "metadata": {},
   "outputs": [
    {
     "data": {
      "image/png": "[encoded data removed]",
      "text/plain": [
       "<Figure size 360x72 with 1 Axes>"
      ]
     },
     "metadata": {
      "needs_background": "light"
     },
     "output_type": "display_data"
    },
    {
     "data": {
      "image/png": "[encoded data removed]",
      "text/plain": [
       "<Figure size 360x72 with 1 Axes>"
      ]
     },
     "metadata": {
      "needs_background": "light"
     },
     "output_type": "display_data"
    },
    {
     "data": {
      "image/png": "[encoded data removed]",
      "text/plain": [
       "<Figure size 360x72 with 1 Axes>"
      ]
     },
     "metadata": {
      "needs_background": "light"
     },
     "output_type": "display_data"
    },
    {
     "data": {
      "image/png": "[encoded data removed]",
      "text/plain": [
       "<Figure size 360x72 with 1 Axes>"
      ]
     },
     "metadata": {
      "needs_background": "light"
     },
     "output_type": "display_data"
    },
    {
     "data": {
      "image/png": "[encoded data removed]",
      "text/plain": [
       "<Figure size 360x72 with 1 Axes>"
      ]
     },
     "metadata": {
      "needs_background": "light"
     },
     "output_type": "display_data"
    },
    {
     "data": {
      "image/png": "[encoded data removed]",
      "text/plain": [
       "<Figure size 360x72 with 1 Axes>"
      ]
     },
     "metadata": {
      "needs_background": "light"
     },
     "output_type": "display_data"
    },
    {
     "data": {
      "image/png": "[encoded data removed]",
      "text/plain": [
       "<Figure size 360x72 with 1 Axes>"
      ]
     },
     "metadata": {
      "needs_background": "light"
     },
     "output_type": "display_data"
    },
    {
     "data": {
      "image/png": "[encoded data removed]",
      "text/plain": [
       "<Figure size 360x72 with 1 Axes>"
      ]
     },
     "metadata": {
      "needs_background": "light"
     },
     "output_type": "display_data"
    },
    {
     "data": {
      "image/png": "[encoded data removed]",
      "text/plain": [
       "<Figure size 360x72 with 1 Axes>"
      ]
     },
     "metadata": {
      "needs_background": "light"
     },
     "output_type": "display_data"
    }
   ],
   "source": [
    "# Plot likert scales as boxplot\n",
    "opinion_dict = {\n",
    "    'Strongly Disagree': 1, 'Disagree': 2, 'Undecided': 3, 'Agree': 4, 'Strongly Agree': 5,\n",
    "    'Definitely Not': 1, 'Probably Not': 2, 'Possibly': 3, 'Very Probably': 4, 'Definitely': 5,\n",
    "    'Not at all': 1, 'Slightly': 2, 'Moderately': 3, 'Very': 4, 'Extremely': 5\n",
    "}\n",
    "\n",
    "# Styling\n",
    "medianprops = dict(linestyle='-.', linewidth=2, color='black')\n",
    "boxwidth = 0.5\n",
    "colors = [\n",
    "    '#0c3875', # scrollingPage2\n",
    "    '#c82b25', # dynamicCarousel2\n",
    "    '#fd9d06'] # expandingMenu2\n",
    "colors.reverse()\n",
    "pages = ['scrollingPage2', 'dynamicCarousel2', 'expandingMenu2']\n",
    "pages.reverse()\n",
    "\n",
    "# Below is a simple example how the liker scale answers can be plotted as boxplot\n",
    "def plot_likert(page, item):\n",
    "    data = [opinion_dict[x] for x in d[page][item]]\n",
    "    fig, ax = plt.subplots()\n",
    "    fig.set_size_inches(5, 1)\n",
    "    fig.tight_layout()\n",
    "    ax.set_title(page + ': ' + item)\n",
    "    ax.set_xlim([0.5,5.5])\n",
    "    # ax.set_ylim([ymin,ymax])\n",
    "    ax.spines['top'].set_visible(False)\n",
    "    ax.spines['right'].set_visible(False)\n",
    "    ax.spines['bottom'].set_visible(True)\n",
    "    ax.spines['left'].set_visible(False)\n",
    "    ax.get_yaxis().set_visible(False)\n",
    "    ax.boxplot(data, vert=False)\n",
    "\n",
    "# For all likert scales within survey\n",
    "plot_likert('scrollingPage2', 'element_accuracy')\n",
    "plot_likert('scrollingPage2', 'element_time')\n",
    "\n",
    "plot_likert('dynamicCarousel2', 'element_accuracy')\n",
    "plot_likert('dynamicCarousel2', 'element_time')\n",
    "\n",
    "plot_likert('expandingMenu2', 'element_accuracy')\n",
    "plot_likert('expandingMenu2', 'element_time')\n",
    "\n",
    "plot_likert('feedback', 'full-automatic')\n",
    "plot_likert('feedback', 'semi-automatic')\n",
    "plot_likert('feedback', 'novelty')"
   ]
  },
  {
   "cell_type": "code",
   "execution_count": 9,
   "metadata": {},
   "outputs": [
    {
     "data": {
      "image/png": "[encoded data removed]",
      "text/plain": [
       "<Figure size 216x144 with 2 Axes>"
      ]
     },
     "metadata": {
      "needs_background": "light"
     },
     "output_type": "display_data"
    }
   ],
   "source": [
    "ticklabels = ['Strongly\\nDisagree', 'Disagree', '  Undecided', '  Agree', 'Strongly\\nAgree',]\n",
    "\n",
    "# Collect data\n",
    "data_accuracy = []\n",
    "data_time = []\n",
    "for page in pages:\n",
    "    data_accuracy.append([opinion_dict[x] for x in d[page]['element_accuracy']])\n",
    "for page in pages:\n",
    "    data_time.append([opinion_dict[x] for x in d[page]['element_time']])\n",
    "        \n",
    "# Prepare plot\n",
    "fig, axes = plt.subplots(nrows=2, ncols=1, figsize=(3, 2))\n",
    "fig.tight_layout()\n",
    "\n",
    "# Accuracy axes\n",
    "axes[0].set_xlim([0.5,5.5])\n",
    "axes[0].spines['top'].set_visible(False)\n",
    "axes[0].spines['right'].set_visible(False)\n",
    "axes[0].spines['bottom'].set_visible(False)\n",
    "axes[0].spines['left'].set_visible(False)\n",
    "axes[0].get_xaxis().set_visible(True)\n",
    "axes[0].get_yaxis().set_visible(False)\n",
    "axes[0].set_title('\"I could work with the discovered stimuli as\\n accurate as with the method in my current workflow\"')\n",
    "axes[0].grid(which='major', axis='both')\n",
    "axes[0].set_axisbelow(True)\n",
    "axes[0].set_xticklabels([])\n",
    "axes[0].tick_params(\n",
    "    axis='x',          # changes apply to the x-axis\n",
    "    which='both',      # both major and minor ticks are affected\n",
    "    bottom=False,      # ticks along the bottom edge are off\n",
    "    top=False,         # ticks along the top edge are off\n",
    "    labelbottom=False) # labels along the bottom edge are off\n",
    "\n",
    "# Times axes\n",
    "axes[1].set_xlim([0.5,5.5])\n",
    "axes[1].spines['top'].set_visible(False)\n",
    "axes[1].spines['right'].set_visible(False)\n",
    "axes[1].spines['bottom'].set_visible(True)\n",
    "axes[1].spines['left'].set_visible(False)\n",
    "axes[1].get_yaxis().set_visible(False)\n",
    "axes[1].set_xticklabels([''] + ticklabels) # xticklabels expect x to start at zero, thus, add empty label for zero\n",
    "# ax.set_ylim([ymin,ymax])\n",
    "axes[1].set_title('\"I could save time when working on the discovered stimuli\\ninstead with the method in my current workflow.\"')\n",
    "axes[1].grid(which='major', axis='both')\n",
    "axes[1].set_axisbelow(True)\n",
    "\n",
    "bplot_accuracy = axes[0].boxplot(data_accuracy, vert=False, patch_artist=True, medianprops=medianprops, widths=boxwidth)\n",
    "for patch, color in zip(bplot_accuracy['boxes'], colors):\n",
    "    patch.set_facecolor(color)\n",
    "    \n",
    "bplot_time = axes[1].boxplot(data_time, vert=False, patch_artist=True, medianprops=medianprops, widths=boxwidth)\n",
    "for patch, color in zip(bplot_time['boxes'], colors):\n",
    "    patch.set_facecolor(color)\n",
    "\n",
    "# Plot it\n",
    "plt.subplots_adjust(hspace=0.9)\n",
    "plt.show()\n",
    "fig.savefig('survey_accuracy_time.pdf', bbox_inches='tight')"
   ]
  },
  {
   "cell_type": "code",
   "execution_count": 10,
   "metadata": {},
   "outputs": [
    {
     "data": {
      "image/png": "[encoded data removed]",
      "text/plain": [
       "<Figure size 216x90 with 2 Axes>"
      ]
     },
     "metadata": {
      "needs_background": "light"
     },
     "output_type": "display_data"
    }
   ],
   "source": [
    "ticklabels = ['Definitely\\nNot', 'Probably\\nNot', 'Possibly', 'Very\\nProbably', 'Definitely']\n",
    "\n",
    "# Collect data\n",
    "data_full_automatic = [opinion_dict[x] for x in d['feedback']['full-automatic']]\n",
    "data_semi_automatic = [opinion_dict[x] for x in d['feedback']['semi-automatic']]\n",
    "        \n",
    "# Prepare plot\n",
    "fig, axes = plt.subplots(nrows=2, ncols=1, figsize=(3, 1.25))\n",
    "fig.tight_layout()\n",
    "\n",
    "# Accuracy axes\n",
    "axes[0].set_xlim([0.5,5.5])\n",
    "axes[0].spines['top'].set_visible(False)\n",
    "axes[0].spines['right'].set_visible(False)\n",
    "axes[0].spines['bottom'].set_visible(False)\n",
    "axes[0].spines['left'].set_visible(False)\n",
    "axes[0].get_xaxis().set_visible(True)\n",
    "axes[0].get_yaxis().set_visible(False)\n",
    "axes[0].set_title('(a) Full-Automatic Mode')\n",
    "axes[0].grid(which='major', axis='both')\n",
    "axes[0].set_axisbelow(True)\n",
    "axes[0].set_xticklabels([])\n",
    "axes[0].tick_params(\n",
    "    axis='x',          # changes apply to the x-axis\n",
    "    which='both',      # both major and minor ticks are affected\n",
    "    bottom=False,      # ticks along the bottom edge are off\n",
    "    top=False,         # ticks along the top edge are off\n",
    "    labelbottom=False) # labels along the bottom edge are off\n",
    "\n",
    "# Times axes\n",
    "axes[1].set_xlim([0.5,5.5])\n",
    "axes[1].spines['top'].set_visible(False)\n",
    "axes[1].spines['right'].set_visible(False)\n",
    "axes[1].spines['bottom'].set_visible(True)\n",
    "axes[1].spines['left'].set_visible(False)\n",
    "axes[1].get_yaxis().set_visible(False)\n",
    "axes[1].set_xticklabels([''] + ticklabels) # xticklabels expect x to start at zero, thus, add empty label for zero\n",
    "# ax.set_ylim([ymin,ymax])\n",
    "axes[1].set_title('(b) Semi-Automatic Mode')\n",
    "axes[1].grid(which='major', axis='both')\n",
    "axes[1].set_axisbelow(True)\n",
    "\n",
    "bplot_full_automatic = axes[0].boxplot(data_full_automatic, vert=False, patch_artist=True, medianprops=medianprops, widths=boxwidth)\n",
    "bplot_full_automatic['boxes'][0].set_facecolor('lightgray')\n",
    "    \n",
    "bplot_semi_automatic = axes[1].boxplot(data_semi_automatic, vert=False, patch_artist=True, medianprops=medianprops, widths=boxwidth)\n",
    "bplot_semi_automatic['boxes'][0].set_facecolor('lightgray')\n",
    "\n",
    "# Plot it\n",
    "plt.subplots_adjust(hspace=2.0)\n",
    "plt.show()\n",
    "fig.savefig('survey_feedback.pdf', bbox_inches='tight')"
   ]
  },
  {
   "cell_type": "code",
   "execution_count": 11,
   "metadata": {},
   "outputs": [
    {
     "data": {
      "image/png": "[encoded data removed]",
      "text/plain": [
       "<Figure size 432x288 with 1 Axes>"
      ]
     },
     "metadata": {
      "needs_background": "light"
     },
     "output_type": "display_data"
    },
    {
     "name": "stdout",
     "output_type": "stream",
     "text": [
      "Modes:\n",
      "composed: #4\n",
      "live dom: #1\n",
      "recorded dom: #0\n",
      "screen recoding: #4\n",
      "think aloud: #3\n",
      "think aloud remote: #1\n",
      "video camera: #2\n",
      "screenshots: #2\n"
     ]
    }
   ],
   "source": [
    "# Plot representation per scenario\n",
    "repr_per_page = {}\n",
    "for page in ['scrollingPage1', 'dynamicCarousel1', 'expandingMenu1']:\n",
    "    repr_per_page[page] = {}\n",
    "    yes_per_repr = repr_per_page[page]\n",
    "    for name, value in d[page].items():\n",
    "        counts = Counter(value)\n",
    "        yes_per_repr[name] = counts['yes']\n",
    "\n",
    "# Following dict defines order and choice of items to include\n",
    "labels = OrderedDict()\n",
    "labels['representation_composed'] = 'composed'\n",
    "labels['representation_live_dom'] = 'live dom'\n",
    "labels['representation_recorded_dom'] = 'recorded dom'\n",
    "labels['representation_screen_recording'] = 'screen recoding'\n",
    "labels['representation_think_aloud'] = 'think aloud'\n",
    "labels['representation_think_aloud_remote'] = 'think aloud remote'\n",
    "labels['representation_video_camera'] = 'video camera'\n",
    "labels['representation_screenshots'] = 'screenshots'\n",
    "\n",
    "# Build for each page aka scenario a list\n",
    "scrollingPageRepr = [repr_per_page['scrollingPage1'][key] for key,value in labels.items()]\n",
    "dynamicCarouselRepr = [repr_per_page['dynamicCarousel1'][key] for key,value in labels.items()]\n",
    "expandingMenuRepr = [repr_per_page['expandingMenu1'][key] for key,value in labels.items()]\n",
    "\n",
    "# Plotting\n",
    "x = np.arange(len(labels))\n",
    "width = 0.2\n",
    "fig, ax = plt.subplots()\n",
    "rects1 = ax.bar(x - width, scrollingPageRepr, width, label='Walmart Footer')\n",
    "rects2 = ax.bar(x, dynamicCarouselRepr, width, label='WebMD Carousel Slide')\n",
    "rects3 = ax.bar(x + width, expandingMenuRepr, width, label='Guardian Expanding Menu')\n",
    "ax.set_xticks(np.arange(len(labels)))\n",
    "ax.set_xticklabels([value for key,value in labels.items()], rotation=20)\n",
    "plt.legend(loc='upper right')\n",
    "plt.show()\n",
    "\n",
    "# Print modes\n",
    "print('Modes:')\n",
    "i = 0\n",
    "for key,item in labels.items():\n",
    "    mode = calc_mode([scrollingPageRepr[i], dynamicCarouselRepr[i], expandingMenuRepr[i]])\n",
    "    i = i+1\n",
    "    print(item + ': #' + str(mode[0]))"
   ]
  }
 ],
 "metadata": {
  "kernelspec": {
   "display_name": "Python 3",
   "language": "python",
   "name": "python3"
  },
  "language_info": {
   "codemirror_mode": {
    "name": "ipython",
    "version": 3
   },
   "file_extension": ".py",
   "mimetype": "text/x-python",
   "name": "python",
   "nbconvert_exporter": "python",
   "pygments_lexer": "ipython3",
   "version": "3.7.3"
  }
 },
 "nbformat": 4,
 "nbformat_minor": 2
}
